{
  "nbformat": 4,
  "nbformat_minor": 0,
  "metadata": {
    "colab": {
      "provenance": [],
      "authorship_tag": "ABX9TyOO7bh8AjIOvia8Df/9cAwc",
      "include_colab_link": true
    },
    "kernelspec": {
      "name": "python3",
      "display_name": "Python 3"
    },
    "language_info": {
      "name": "python"
    }
  },
  "cells": [
    {
      "cell_type": "markdown",
      "metadata": {
        "id": "view-in-github",
        "colab_type": "text"
      },
      "source": [
        "<a href=\"https://colab.research.google.com/github/LilyHeAsamiko/Kepler-Predictor-Corrector-Algorithm/blob/main/Electron_cattering.ipynb\" target=\"_parent\"><img src=\"https://colab.research.google.com/assets/colab-badge.svg\" alt=\"Open In Colab\"/></a>"
      ]
    },
    {
      "cell_type": "code",
      "execution_count": null,
      "metadata": {
        "id": "40i-1Sk7nG7B"
      },
      "outputs": [],
      "source": [
        "#Electron Cattering"
      ]
    },
    {
      "cell_type": "code",
      "source": [
        "import numpy as np\n",
        "import matplotlib.pyplot as plt"
      ],
      "metadata": {
        "id": "MBFgOjrJ8q5R"
      },
      "execution_count": 7,
      "outputs": []
    },
    {
      "cell_type": "code",
      "source": [
        "from numpy import array,arange\n",
        "# Constants\n",
        "m = 9.1094e-31     # Mass of electron\n",
        "hbar = 1.0546e-34  # Planck's constant over 2*pi\n",
        "e = 1.6022e-19     # Electron charge\n",
        "L = 5.2918e-11     # Bohr radius\n",
        "N = 1000\n",
        "h = L/N\n",
        "\n",
        "# Potential function\n",
        "def V(x):\n",
        "    return 0.0\n",
        "\n",
        "def f(r,x,E):\n",
        "    psi = r[0]\n",
        "    phi = r[1]\n",
        "    fpsi = phi\n",
        "    fphi = (2*m/hbar**2)*(V(x)-E)*psi\n",
        "    return array([fpsi,fphi],float)\n",
        "\n",
        "# Calculate the wavefunction for a particular energy\n",
        "def solve(E):\n",
        "    psi = 0.0\n",
        "    phi = 1.0\n",
        "    r = array([psi,phi],float)\n",
        "\n",
        "    for x in arange(0,L,h):\n",
        "        k1 = h*f(r,x,E)\n",
        "        k2 = h*f(r+0.5*k1,x+0.5*h,E)\n",
        "        k3 = h*f(r+0.5*k2,x+0.5*h,E)\n",
        "        k4 = h*f(r+k3,x+h,E)\n",
        "        r += (k1+2*k2+2*k3+k4)/6\n",
        "\n",
        "    return r[0]\n",
        "\n",
        "# Main program to find the energy using the secant method\n",
        "E1 = 0.0\n",
        "E2 = e\n",
        "psi2 = solve(E1)\n",
        "\n",
        "target = e/1000\n",
        "rr = []\n",
        "Er = []\n",
        "while abs(E1-E2)>target:\n",
        "    psi1,psi2 = psi2,solve(E2)\n",
        "    rr.append(psi2)\n",
        "    E1,E2 = E2,E2-psi2*(E2-E1)/(psi2-psi1)\n",
        "    Er.append(E2)\n",
        "\n",
        "print(\"E =\",E2/e,\"eV\")\n",
        "print(rr)\n",
        "print(Er)"
      ],
      "metadata": {
        "colab": {
          "base_uri": "https://localhost:8080/"
        },
        "id": "OBpCNsN5Gh3g",
        "outputId": "65368328-1e8e-4802-fe74-9059b063a176"
      },
      "execution_count": 8,
      "outputs": [
        {
          "output_type": "stream",
          "name": "stdout",
          "text": [
            "E = 134.28637169369105 eV\n",
            "[5.2272161579438944e-11, 1.3686307647244209e-11, 5.3049212158378845e-12, 1.1112569883778003e-12, 1.2970720467377272e-13, 3.866933379260459e-15, 1.4130775280613555e-17]\n",
            "[1.3127930593896974e-17, 1.772754570103909e-17, 2.0638829647467564e-17, 2.1410275441681793e-17, 2.151221838862766e-17, 2.15153509834661e-17, 2.151536247276318e-17]\n"
          ]
        }
      ]
    },
    {
      "cell_type": "code",
      "source": [
        "au = 1.49597870e11 #1 au in m"
      ],
      "metadata": {
        "id": "4i-zNF1grEda"
      },
      "execution_count": 13,
      "outputs": []
    },
    {
      "cell_type": "code",
      "source": [
        "#over all proton j(assume j = 3)\n",
        "x = np.linspace(-0.5,0.5,50)\n",
        "dx = 0.1\n",
        "for i in [1,2,3]:\n",
        "  R1 = -4\n",
        "  x0 = -5\n",
        "  x += dx\n",
        "  V = -e/abs(x-R1) #eV\n",
        "  k = rr\n",
        "  print(k)\n",
        "  s1 = (1*au)**2+(k[-1]*0.2*au)**2\n",
        "  r0 = (s1)**(1/2)\n",
        "  E = 9.2 #eV\n",
        "  p0 = np.sqrt(2*m*(E+1/r0))\n",
        "  sigma = 0.5\n",
        "  sigmax = sigma\n",
        "  sigmap = hbar/2/sigmax\n",
        "  p = p0 + np.sqrt(np.std(-(x-x0)**2/2/sigmax**2))/np.size(x)\n",
        "  P0 = 1/(2*np.pi*hbar*sigmax*sigmap)**3*np.exp(-(x-x0)**2/2/sigmax**2-1/((p-p0)**2/2/sigmap**2))\n",
        "  print(p0)\n",
        "  print(p)\n",
        "  print((2*np.pi*hbar*sigmax*sigmap)**3)\n",
        "  print(-(x-x0)**2/2/sigmax**2)\n",
        "  print(-1/((p-p0)**2/2/sigmap**2))\n",
        "  print(P0)\n",
        "  plt.plot(range(10),-P0[range(10)])"
      ],
      "metadata": {
        "colab": {
          "base_uri": "https://localhost:8080/",
          "height": 1000
        },
        "id": "PWhboi7YrMh3",
        "outputId": "df597b9e-31c1-40c0-af3f-ef8c60c9fc78"
      },
      "execution_count": 35,
      "outputs": [
        {
          "output_type": "stream",
          "name": "stdout",
          "text": [
            "[5.2272161579438944e-11, 1.3686307647244209e-11, 5.3049212158378845e-12, 1.1112569883778003e-12, 1.2970720467377272e-13, 3.866933379260459e-15, 1.4130775280613555e-17]\n",
            "4.094056179391311e-15\n",
            "0.049030417604034655\n",
            "4.265561619316084e-203\n",
            "[-42.32       -42.69634319 -43.07435235 -43.45402749 -43.8353686\n",
            " -44.21837568 -44.60304873 -44.98938776 -45.37739275 -45.76706372\n",
            " -46.15840067 -46.55140358 -46.94607247 -47.34240733 -47.74040816\n",
            " -48.14007497 -48.54140775 -48.9444065  -49.34907122 -49.75540192\n",
            " -50.16339858 -50.57306122 -50.98438984 -51.39738442 -51.81204498\n",
            " -52.22837151 -52.64636401 -53.06602249 -53.48734694 -53.91033736\n",
            " -54.33499375 -54.76131612 -55.18930446 -55.61895877 -56.05027905\n",
            " -56.48326531 -56.91791753 -57.35423574 -57.79221991 -58.23187005\n",
            " -58.67318617 -59.11616826 -59.56081633 -60.00713036 -60.45511037\n",
            " -60.90475635 -61.3560683  -61.80904623 -62.26369013 -62.72      ]\n",
            "-9.252824931295435e-66\n",
            "[9.78771479e+183 6.71796188e+183 4.60331020e+183 3.14904905e+183\n",
            " 2.15062696e+183 1.46631482e+183 9.98081120e+182 6.78236150e+182\n",
            " 4.60121476e+182 3.11630927e+182 2.10709966e+182 1.42234870e+182\n",
            " 9.58525253e+181 6.44877933e+181 4.33139660e+181 2.90438953e+181\n",
            " 1.94427751e+181 1.29938581e+181 8.66950820e+180 5.77467149e+180\n",
            " 3.84004737e+180 2.54930828e+180 1.68960276e+180 1.11795247e+180\n",
            " 7.38479678e+179 4.87001427e+179 3.20625748e+179 2.10738088e+179\n",
            " 1.38281523e+179 9.05861385e+178 5.92428331e+178 3.86799913e+178\n",
            " 2.52123539e+178 1.64065361e+178 1.06585194e+178 6.91278958e+177\n",
            " 4.47596079e+177 2.89331479e+177 1.86716018e+177 1.20293994e+177\n",
            " 7.73718159e+176 4.96818903e+176 3.18485681e+176 2.03825346e+176\n",
            " 1.30227572e+176 8.30661678e+175 5.28958845e+175 3.36276153e+175\n",
            " 2.13425710e+175 1.35230257e+175]\n",
            "[5.2272161579438944e-11, 1.3686307647244209e-11, 5.3049212158378845e-12, 1.1112569883778003e-12, 1.2970720467377272e-13, 3.866933379260459e-15, 1.4130775280613555e-17]\n",
            "4.094056179391311e-15\n",
            "0.04950846061474128\n",
            "4.265561619316084e-203\n",
            "[-44.18       -44.56450646 -44.95067888 -45.33851728 -45.72802166\n",
            " -46.119192   -46.51202832 -46.90653061 -47.30269888 -47.70053311\n",
            " -48.10003332 -48.5011995  -48.90403165 -49.30852978 -49.71469388\n",
            " -50.12252395 -50.53201999 -50.94318201 -51.35601    -51.77050396\n",
            " -52.18666389 -52.6044898  -53.02398167 -53.44513953 -53.86796335\n",
            " -54.29245314 -54.71860891 -55.14643065 -55.57591837 -56.00707205\n",
            " -56.43989171 -56.87437734 -57.31052895 -57.74834652 -58.18783007\n",
            " -58.62897959 -59.07179509 -59.51627655 -59.96242399 -60.4102374\n",
            " -60.85971678 -61.31086214 -61.76367347 -62.21815077 -62.67429404\n",
            " -63.13210329 -63.59157851 -64.0527197  -64.51552686 -64.98      ]\n",
            "-9.075001049574077e-66\n",
            "[1.52367931e+183 1.03730038e+183 7.05004652e+182 4.78361155e+182\n",
            " 3.24038271e+182 2.19135724e+182 1.47947128e+182 9.97186453e+181\n",
            " 6.71000246e+181 4.50760099e+181 3.02304582e+181 2.02404643e+181\n",
            " 1.35292179e+181 9.02820446e+180 6.01459736e+180 4.00025991e+180\n",
            " 2.65611172e+180 1.76068208e+180 1.16517733e+180 7.69802977e+179\n",
            " 5.07742625e+179 3.34336767e+179 2.19786559e+179 1.44242951e+179\n",
            " 9.45071238e+178 6.18174335e+178 4.03676875e+178 2.63168103e+178\n",
            " 1.71280967e+178 1.11291357e+178 7.21921956e+177 4.67514988e+177\n",
            " 3.02257652e+177 1.95090241e+177 1.25710127e+177 8.08688866e+176\n",
            " 5.19360765e+176 3.32991609e+176 2.13144396e+176 1.36204365e+176\n",
            " 8.68929637e+175 5.53419772e+175 3.51885369e+175 2.23369682e+175\n",
            " 1.41554513e+175 8.95570315e+174 5.65655661e+174 3.56681893e+174\n",
            " 2.24536250e+174 1.41113429e+174]\n",
            "[5.2272161579438944e-11, 1.3686307647244209e-11, 5.3049212158378845e-12, 1.1112569883778003e-12, 1.2970720467377272e-13, 3.866933379260459e-15, 1.4130775280613555e-17]\n",
            "4.094056179391311e-15\n",
            "0.04998193748499766\n",
            "4.265561619316084e-203\n",
            "[-46.08       -46.47266972 -46.86700541 -47.26300708 -47.66067472\n",
            " -48.06000833 -48.46100791 -48.86367347 -49.268005   -49.6740025\n",
            " -50.08166597 -50.49099542 -50.90199084 -51.31465223 -51.72897959\n",
            " -52.14497293 -52.56263224 -52.98195752 -53.40294877 -53.825606\n",
            " -54.2499292  -54.67591837 -55.10357351 -55.53289463 -55.96388172\n",
            " -56.39653478 -56.83085381 -57.26683882 -57.7044898  -58.14380675\n",
            " -58.58478967 -59.02743857 -59.47175344 -59.91773428 -60.36538109\n",
            " -60.81469388 -61.26567264 -61.71831737 -62.17262807 -62.62860475\n",
            " -63.0862474  -63.54555602 -64.00653061 -64.46917118 -64.93347772\n",
            " -65.39945023 -65.86708871 -66.33639317 -66.8073636  -67.28      ]\n",
            "-8.903881177523048e-66\n",
            "[2.27894610e+182 1.53886230e+182 1.03738973e+182 6.98169073e+181\n",
            " 4.69089537e+181 3.14649729e+181 2.10705298e+181 1.40864003e+181\n",
            " 9.40158496e+180 6.26438730e+180 4.16708734e+180 2.76734359e+180\n",
            " 1.83472104e+180 1.21437684e+180 8.02441514e+179 5.29358363e+179\n",
            " 3.48628306e+179 2.29219726e+179 1.50458875e+179 9.85961848e+178\n",
            " 6.45028474e+178 4.21283199e+178 2.74691911e+178 1.78810937e+178\n",
            " 1.16203381e+178 7.53910736e+177 4.88312192e+177 3.15756054e+177\n",
            " 2.03836653e+177 1.31367929e+177 8.45226106e+176 5.42916361e+176\n",
            " 3.48152432e+176 2.22885807e+176 1.42453090e+176 9.08945430e+175\n",
            " 5.79002213e+175 3.68212998e+175 2.33773072e+175 1.48172063e+175\n",
            " 9.37593637e+174 5.92296889e+174 3.73543109e+174 2.35189801e+174\n",
            " 1.47833451e+174 9.27691177e+173 5.81179936e+173 3.63491515e+173\n",
            " 2.26962663e+173 1.41478692e+173]\n"
          ]
        },
        {
          "output_type": "display_data",
          "data": {
            "text/plain": [
              "<Figure size 432x288 with 1 Axes>"
            ],
            "image/png": "[encoded data removed]"
          },
          "metadata": {
            "needs_background": "light"
          }
        }
      ]
    },
    {
      "cell_type": "code",
      "source": [],
      "metadata": {
        "id": "OC71pmvarYZR"
      },
      "execution_count": null,
      "outputs": []
    }
  ]
}